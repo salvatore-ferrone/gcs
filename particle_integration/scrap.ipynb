{
 "cells": [
  {
   "cell_type": "markdown",
   "metadata": {},
   "source": [
    "## Integrate the particles where they feel all NBody forces"
   ]
  },
  {
   "cell_type": "code",
   "execution_count": 1,
   "metadata": {},
   "outputs": [],
   "source": [
    "import tstrippy\n",
    "from gcs import path_handler as ph\n",
    "import gcs\n",
    "import os "
   ]
  },
  {
   "cell_type": "code",
   "execution_count": 2,
   "metadata": {},
   "outputs": [],
   "source": [
    "GCname              =   \"NGC104\"\n",
    "montecarlokey       =   \"monte-carlo-000\"\n",
    "internal_dynamics   =   \"isotropic-plummer\"\n",
    "potential           =   \"pouliasis2017pii-GCNBody\"\n",
    "NP                  =   int(1e5)"
   ]
  },
  {
   "cell_type": "markdown",
   "metadata": {},
   "source": [
    "load the particle positions"
   ]
  },
  {
   "cell_type": "code",
   "execution_count": 3,
   "metadata": {},
   "outputs": [],
   "source": [
    "fname = ph.ParticleInitialConditions(GCname)\n",
    "x,y,z,vx,vy,vz=gcs.extractors.ParticleInitialConditions.load_particles(fname,internal_dynamics,montecarlokey,NP)"
   ]
  },
  {
   "cell_type": "code",
   "execution_count": 12,
   "metadata": {},
   "outputs": [],
   "source": [
    "# now get the positions at the begining of the orbit \n",
    "orbit_file_name = ph.GC_orbits(potential,GCname)\n",
    "tH,xH,yH,zH,vxH,vyH,vzH=gcs.extractors.GCOrbits.extract_whole_orbit(orbit_file_name,montecarlokey)\n",
    "t0,x0,y0,z0,vx0,vy0,vz0=gcs.extractors.GCOrbits.initial_simulation_coordinates(orbit_file_name,montecarlokey)"
   ]
  },
  {
   "cell_type": "code",
   "execution_count": 4,
   "metadata": {},
   "outputs": [],
   "source": [
    "GCnames=list(tstrippy.Parsers.baumgardtMWGCs().data['Cluster'][:])\n",
    "GCnames.remove(GCname)"
   ]
  },
  {
   "cell_type": "code",
   "execution_count": 13,
   "metadata": {},
   "outputs": [],
   "source": [
    "ts,xs,ys,zs,vxs,vys,vzs=gcs.extractors.GCOrbits.extract_orbits_from_all_GCS(GCnames,potential,montecarlokey)"
   ]
  },
  {
   "cell_type": "code",
   "execution_count": 15,
   "metadata": {},
   "outputs": [],
   "source": [
    "Masses,rh_mes,RAes,DECes,Rsunes,RVes,mualphaes,mu_deltaes=gcs.extractors.MonteCarloObservables.extract_all_GC_observables(GCnames,montecarlokey)"
   ]
  },
  {
   "cell_type": "code",
   "execution_count": null,
   "metadata": {},
   "outputs": [],
   "source": []
  },
  {
   "cell_type": "code",
   "execution_count": 11,
   "metadata": {},
   "outputs": [],
   "source": [
    "fname = ph.ParticleInitialConditions(GCname)\n",
    "x,y,z,vx,vy,vz=gcs.extractors.ParticleInitialConditions.load_particles(fname,internal_dynamics,montecarlokey,NP)"
   ]
  }
 ],
 "metadata": {
  "kernelspec": {
   "display_name": "tstrippy",
   "language": "python",
   "name": "python3"
  },
  "language_info": {
   "codemirror_mode": {
    "name": "ipython",
    "version": 3
   },
   "file_extension": ".py",
   "mimetype": "text/x-python",
   "name": "python",
   "nbconvert_exporter": "python",
   "pygments_lexer": "ipython3",
   "version": "3.11.2"
  }
 },
 "nbformat": 4,
 "nbformat_minor": 2
}
