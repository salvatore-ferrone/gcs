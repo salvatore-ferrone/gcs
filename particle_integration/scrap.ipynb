{
 "cells": [
  {
   "cell_type": "markdown",
   "metadata": {},
   "source": [
    "## Integrate the particles where they feel all NBody forces"
   ]
  },
  {
   "cell_type": "code",
   "execution_count": 1,
   "metadata": {},
   "outputs": [],
   "source": [
    "import h5py\n",
    "import tstrippy\n",
    "from gcs import path_handler as ph\n",
    "import gcs\n",
    "import os \n",
    "import numpy as np \n",
    "import astropy.units as u\n",
    "import vanilla\n",
    "import vanilla_loop_over_monte_carlo as vlm\n",
    "import datetime "
   ]
  },
  {
   "cell_type": "code",
   "execution_count": 2,
   "metadata": {},
   "outputs": [],
   "source": [
    "author = \"Salvatore Ferrone\"\n",
    "author_affiliation = \"Sapienza University of Rome\"\n",
    "author_email = \"salvatore.ferrone@uniroma1.it\"\n",
    "description = \"Integrating star-particles with in a globular cluster\""
   ]
  },
  {
   "cell_type": "code",
   "execution_count": 3,
   "metadata": {},
   "outputs": [],
   "source": [
    "GCname              =   \"NGC104\"\n",
    "montecarlokey       =   \"monte-carlo-000\"\n",
    "internal_dynamics   =   \"isotropic-plummer\"\n",
    "GCorbits_potential  =   \"pouliasis2017pii\"\n",
    "MWpotential         =   \"pouliasis2017pii\"\n",
    "NP                  =   int(1e2)\n",
    "T                   =   5e9*u.yr\n",
    "dt                  =   1e5*u.yr\n",
    "NSKIP               =   int(100)"
   ]
  },
  {
   "cell_type": "code",
   "execution_count": 4,
   "metadata": {},
   "outputs": [],
   "source": [
    "attrs = {\"GCname\":GCname,\"montecarlokey\":montecarlokey,\"internal_dynamics\":internal_dynamics,\"GCorbits_potential\":GCorbits_potential,\"MWpotential\":MWpotential,\"NP\":NP,\"T\":str(T),\"dt\":str(dt),\"NSKIP\":NSKIP}"
   ]
  },
  {
   "cell_type": "code",
   "execution_count": 5,
   "metadata": {},
   "outputs": [],
   "source": [
    "T,dt,NSTEP,t_sampling=gcs.misc.get_time_sampling_from_years_to_integration_units(T,dt)"
   ]
  },
  {
   "cell_type": "code",
   "execution_count": 6,
   "metadata": {},
   "outputs": [],
   "source": [
    "snapshotTime=t_sampling[::NSKIP]"
   ]
  },
  {
   "cell_type": "code",
   "execution_count": 7,
   "metadata": {},
   "outputs": [],
   "source": [
    "outfilename=ph.StreamSnapShots(GCname,NP,MWpotential,internal_dynamics,montecarlokey)\n",
    "tempdir=ph._TemporaryStreamSnapShots(MWpotential,GCname,NP,internal_dynamics,montecarlokey)"
   ]
  },
  {
   "cell_type": "code",
   "execution_count": 8,
   "metadata": {},
   "outputs": [],
   "source": [
    "gcs.writers.Stream.assemble_StreamSnapShots(outfilename,snapshotTime,attrs,tempdir)"
   ]
  },
  {
   "cell_type": "code",
   "execution_count": 20,
   "metadata": {},
   "outputs": [],
   "source": [
    "myfile = h5py.File(outfilename, 'r')"
   ]
  },
  {
   "cell_type": "code",
   "execution_count": 21,
   "metadata": {},
   "outputs": [
    {
     "name": "stdout",
     "output_type": "stream",
     "text": [
      "GCname NGC104\n",
      "GCorbits_potential pouliasis2017pii\n",
      "MWpotential pouliasis2017pii\n",
      "NP 100\n",
      "NSKIP 100\n",
      "T 5000000000.0 yr\n",
      "dt 100000.0 yr\n",
      "internal_dynamics isotropic-plummer\n",
      "montecarlokey monte-carlo-000\n"
     ]
    }
   ],
   "source": [
    "for att in myfile.attrs:\n",
    "    print(att,myfile.attrs[att])"
   ]
  },
  {
   "cell_type": "code",
   "execution_count": 19,
   "metadata": {},
   "outputs": [],
   "source": [
    "myfile.close()"
   ]
  },
  {
   "cell_type": "markdown",
   "metadata": {},
   "source": [
    "# GCNBody stuff"
   ]
  },
  {
   "cell_type": "markdown",
   "metadata": {},
   "source": [
    "load the host's Mass and size"
   ]
  },
  {
   "cell_type": "code",
   "execution_count": 6,
   "metadata": {},
   "outputs": [],
   "source": [
    "Mass,rh_m,_a,_,_,_,_,_=gcs.extractors.MonteCarloObservables.extract_all_GC_observables([GCname],montecarlokey)\n",
    "rplummer=gcs.misc.half_mass_to_plummer(rh_m[0]).value\n",
    "mass_host = Mass[0].value"
   ]
  },
  {
   "cell_type": "markdown",
   "metadata": {},
   "source": [
    "load all the perturbers "
   ]
  },
  {
   "cell_type": "code",
   "execution_count": 7,
   "metadata": {},
   "outputs": [],
   "source": [
    "GCnames=list(tstrippy.Parsers.baumgardtMWGCs().data['Cluster'][:])\n",
    "GCnames.remove(GCname)"
   ]
  },
  {
   "cell_type": "code",
   "execution_count": 8,
   "metadata": {},
   "outputs": [],
   "source": [
    "ts,xs,ys,zs,vxs,vys,vzs=gcs.extractors.GCOrbits.extract_orbits_from_all_GCS(GCnames,GCorbits_potential,montecarlokey)"
   ]
  },
  {
   "cell_type": "code",
   "execution_count": 9,
   "metadata": {},
   "outputs": [],
   "source": [
    "Masses,rh_mes,RAes,DECes,Rsunes,RVes,mualphaes,mu_deltaes=gcs.extractors.MonteCarloObservables.extract_all_GC_observables(GCnames,montecarlokey)\n",
    "r_plums = [gcs.misc.half_mass_to_plummer(rh_m).value for rh_m in rh_mes]\n",
    "Masses = [Mass.value for Mass in Masses]"
   ]
  },
  {
   "cell_type": "code",
   "execution_count": 10,
   "metadata": {},
   "outputs": [],
   "source": [
    "# load milky way parameters\n",
    "MWparams = tstrippy.Parsers.potential_parameters.pouliasis2017pii()"
   ]
  },
  {
   "cell_type": "code",
   "execution_count": 11,
   "metadata": {},
   "outputs": [],
   "source": [
    "integrator = tstrippy.integrator"
   ]
  },
  {
   "cell_type": "code",
   "execution_count": 12,
   "metadata": {},
   "outputs": [],
   "source": [
    "integrator.setstaticgalaxy(MWpotential,MWparams)\n",
    "integrator.setintegrationparameters(T.value,dt.value,Nstep)\n",
    "integrator.setinitialkinematics(x+xH[0],y+yH[0],z+zH[0],vx+vxH[0],vy+vyH[0],vz+vzH[0])"
   ]
  },
  {
   "cell_type": "code",
   "execution_count": 13,
   "metadata": {},
   "outputs": [],
   "source": [
    "integrator.inithostperturber(tnew,xH,yH,zH,vxH,vyH,vzH,mass_host,rplummer,)\n",
    "integrator.initperturbers(ts,xs,ys,zs,Masses,r_plums)"
   ]
  },
  {
   "cell_type": "code",
   "execution_count": 15,
   "metadata": {},
   "outputs": [],
   "source": [
    "integrator.leapfrogtofinalpositions()"
   ]
  },
  {
   "cell_type": "code",
   "execution_count": 17,
   "metadata": {},
   "outputs": [],
   "source": [
    "xf=integrator.xf\n",
    "yf=integrator.yf\n",
    "zf=integrator.zf\n",
    "vxf=integrator.vxf\n",
    "vyf=integrator.vyf\n",
    "vzf=integrator.vzf\n",
    "tesc=integrator.tesc"
   ]
  },
  {
   "cell_type": "code",
   "execution_count": 18,
   "metadata": {},
   "outputs": [],
   "source": [
    "import matplotlib.pyplot as plt"
   ]
  },
  {
   "cell_type": "code",
   "execution_count": null,
   "metadata": {},
   "outputs": [],
   "source": []
  }
 ],
 "metadata": {
  "kernelspec": {
   "display_name": "tstrippy",
   "language": "python",
   "name": "python3"
  },
  "language_info": {
   "codemirror_mode": {
    "name": "ipython",
    "version": 3
   },
   "file_extension": ".py",
   "mimetype": "text/x-python",
   "name": "python",
   "nbconvert_exporter": "python",
   "pygments_lexer": "ipython3",
   "version": "3.11.2"
  }
 },
 "nbformat": 4,
 "nbformat_minor": 2
}
