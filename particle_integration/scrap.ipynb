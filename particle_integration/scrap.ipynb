{
 "cells": [
  {
   "cell_type": "markdown",
   "metadata": {},
   "source": [
    "## Integrate the particles where they feel all NBody forces"
   ]
  },
  {
   "cell_type": "code",
   "execution_count": 1,
   "metadata": {},
   "outputs": [],
   "source": [
    "import tstrippy\n",
    "import gcs"
   ]
  },
  {
   "cell_type": "code",
   "execution_count": 2,
   "metadata": {},
   "outputs": [],
   "source": [
    "def extract_GC_observables(filehdf5,montecarlokey,):\n",
    "    RA          =   filehdf5[montecarlokey]['RA'][0]        *u.Unit(filehdf5.attrs['RA'])\n",
    "    DEC         =   filehdf5[montecarlokey]['DEC'][0]       *u.Unit(filehdf5.attrs['DEC'])\n",
    "    rh_m        =   filehdf5[montecarlokey]['rh_m'][0]      *u.Unit(filehdf5.attrs['rh_m'])\n",
    "    Mass        =   filehdf5[montecarlokey]['Mass'][0]      *u.Unit(filehdf5.attrs['Mass'])\n",
    "    Rsun        =   filehdf5[montecarlokey]['Rsun'][0]      *u.Unit(filehdf5.attrs['Rsun'])\n",
    "    RV          =   filehdf5[montecarlokey]['RV'][0]        *u.Unit(filehdf5.attrs['RV'])\n",
    "    mualpha     =   filehdf5[montecarlokey]['mualpha'][0]   *u.Unit(filehdf5.attrs['mualpha'])\n",
    "    mu_delta    =   filehdf5[montecarlokey]['mu_delta'][0]  *u.Unit(filehdf5.attrs['mu_delta'])\n",
    "    return  Mass,rh_m,RA,DEC,Rsun,RV,mualpha,mu_delta\n",
    "\n",
    "def extract_all_GC_observables(GCnames,montecarlokey):\n",
    "    assert(isinstance(GCnames,list))\n",
    "    assert(isinstance(montecarlokey,str))\n",
    "    Masses,rh_mes,RAes,DECes,Rsunes,RVes,mualphaes,mu_deltaes=[],[],[],[],[],[],[],[]\n",
    "    for i in range(len(GCnames)):\n",
    "        filename=ph.MonteCarloObservables(GCnames[i])\n",
    "        with h5py.File(filename,'r') as filehdf5:\n",
    "            Mass,rh_m,RA,DEC,Rsun,RV,mualpha,mu_delta=extract_GC_observables(filehdf5,montecarlokey)\n",
    "            Masses.append(Mass)\n",
    "            rh_mes.append(rh_m)\n",
    "            RAes.append(RA)\n",
    "            DECes.append(DEC)\n",
    "            Rsunes.append(Rsun)\n",
    "            RVes.append(RV)\n",
    "            mualphaes.append(mualpha)\n",
    "            mu_deltaes.append(mu_delta)\n",
    "    return Masses,rh_mes,RAes,DECes,Rsunes,RVes,mualphaes,mu_deltaes"
   ]
  },
  {
   "cell_type": "code",
   "execution_count": 7,
   "metadata": {},
   "outputs": [
    {
     "ename": "TypeError",
     "evalue": "'module' object is not callable",
     "output_type": "error",
     "traceback": [
      "\u001b[0;31m---------------------------------------------------------------------------\u001b[0m",
      "\u001b[0;31mTypeError\u001b[0m                                 Traceback (most recent call last)",
      "Cell \u001b[0;32mIn[7], line 1\u001b[0m\n\u001b[0;32m----> 1\u001b[0m ph\u001b[38;5;241m=\u001b[39m\u001b[43mgcs\u001b[49m\u001b[38;5;241;43m.\u001b[39;49m\u001b[43mpath_handler\u001b[49m\u001b[43m(\u001b[49m\u001b[43m)\u001b[49m\n",
      "\u001b[0;31mTypeError\u001b[0m: 'module' object is not callable"
     ]
    }
   ],
   "source": [
    "ph=gcs.path_handler"
   ]
  },
  {
   "cell_type": "code",
   "execution_count": 9,
   "metadata": {},
   "outputs": [
    {
     "name": "stdout",
     "output_type": "stream",
     "text": [
      "\u001b[0;31mType:\u001b[0m        module\n",
      "\u001b[0;31mString form:\u001b[0m <module 'gcs.path_handler' from '/home/sferrone/miniconda3/envs/tstrippy/lib/python3.11/site-packages/gcs-0.1-py3.11.egg/gcs/path_handler.py'>\n",
      "\u001b[0;31mFile:\u001b[0m        ~/miniconda3/envs/tstrippy/lib/python3.11/site-packages/gcs-0.1-py3.11.egg/gcs/path_handler.py\n",
      "\u001b[0;31mDocstring:\u001b[0m   <no docstring>"
     ]
    }
   ],
   "source": [
    "ph?"
   ]
  }
 ],
 "metadata": {
  "kernelspec": {
   "display_name": "tstrippy",
   "language": "python",
   "name": "python3"
  },
  "language_info": {
   "codemirror_mode": {
    "name": "ipython",
    "version": 3
   },
   "file_extension": ".py",
   "mimetype": "text/x-python",
   "name": "python",
   "nbconvert_exporter": "python",
   "pygments_lexer": "ipython3",
   "version": "3.11.2"
  }
 },
 "nbformat": 4,
 "nbformat_minor": 2
}
