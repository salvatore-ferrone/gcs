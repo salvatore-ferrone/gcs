{
 "cells": [
  {
   "cell_type": "markdown",
   "metadata": {},
   "source": [
    "## make the particle distributions \n"
   ]
  },
  {
   "cell_type": "code",
   "execution_count": 1,
   "metadata": {},
   "outputs": [],
   "source": [
    "import tstrippy\n",
    "import h5py \n",
    "import sys \n",
    "sys.path.append(\"../\")\n",
    "import path_handler as ph\n",
    "import datetime "
   ]
  },
  {
   "cell_type": "code",
   "execution_count": 2,
   "metadata": {},
   "outputs": [],
   "source": [
    "import create_monte_carlo_observables as cmco"
   ]
  },
  {
   "cell_type": "code",
   "execution_count": 3,
   "metadata": {},
   "outputs": [],
   "source": [
    "n_samples = 50\n",
    "seed_number = 40\n",
    "jj = 0 \n",
    "myGCS=tstrippy.Parsers.baumgardtMWGCs()\n",
    "GCnames = myGCS.data['Cluster'][:]\n",
    "mcarlokeys = [\"monte-carlo-\"+str(i).zfill(3) for i in range(n_samples)]\n",
    "NGCs = len(GCnames)\n",
    "columns = myGCS._unitkeys\n",
    "columns.pop(-1)\n",
    "units = [str(myGCS.units[key]) for key in columns]\n",
    "jj = 0 \n",
    "\n",
    "GCname = GCnames[jj]\n",
    "cmco.inner_loop(GCname,myGCS,n_samples,mcarlokeys,columns,units,seed_number)"
   ]
  },
  {
   "cell_type": "code",
   "execution_count": 9,
   "metadata": {},
   "outputs": [
    {
     "data": {
      "text/plain": [
       "<KeysViewHDF5 ['columns', 'initial_conditions', 'montecarlokeys', 'units']>"
      ]
     },
     "execution_count": 9,
     "metadata": {},
     "output_type": "execute_result"
    }
   ],
   "source": [
    "cluster_num     =   1\n",
    "NP              =   int(1e5)\n",
    "cluster_names = tstrippy.Parsers.baumgardtMWGCs().data['Cluster'][:]\n",
    "GCname=cluster_names[cluster_num]\n",
    "init_conds_path = ph.MonteCarloObservables(GCname)    \n",
    "myfile=h5py.File(init_conds_path,'r')\n",
    "myfile.keys()"
   ]
  },
  {
   "cell_type": "code",
   "execution_count": 28,
   "metadata": {},
   "outputs": [],
   "source": [
    "potential_name = \"isotropic_plummer\"\n",
    "NP = int(1e5)\n",
    "GCname = \"Pal5\"\n",
    "init_conds = h5py.File(init_conds_path, 'r')\n",
    "init_conds_path = ph.MonteCarloObservables(GCname)\n",
    "\n",
    "n_monte_carlo = init_conds[\"initial_conditions\"].shape[0]\n",
    "jj = 0\n"
   ]
  },
  {
   "cell_type": "code",
   "execution_count": 29,
   "metadata": {},
   "outputs": [],
   "source": [
    "mcarlokey = \"monte-carlo-\" + str(jj).zfill(3)\n",
    "outname=ph.ParticleDistribution(GCname, potential_name, NP, mcarlokey)\n",
    "RA,DEC,Rsun,RV,mualpha,mu_delta,Mass,rh_m=init_conds[\"initial_conditions\"][jj]"
   ]
  },
  {
   "cell_type": "code",
   "execution_count": 30,
   "metadata": {},
   "outputs": [],
   "source": [
    "G=tstrippy.Parsers.potential_parameters.G\n",
    "x,y,z,vx,vy,vz=tstrippy.ergodic.isotropicplummer(G,Mass,rh_m,NP)"
   ]
  },
  {
   "cell_type": "code",
   "execution_count": 36,
   "metadata": {},
   "outputs": [],
   "source": [
    "attrs = {\n",
    "    \"GCname\": GCname,\n",
    "    \"Datasource\": \"https://people.smp.uq.edu.au/HolgerBaumgardt/globular\",\n",
    "    \"Creationdate\": datetime.datetime.now().strftime(\"%Y-%m-%d\"),\n",
    "    \"Author\": \"Salvatore Ferrone\",\n",
    "    \"Authoraffiliation\": \"Observatoire de Paris\",\n",
    "    \"author-email\": \"salvatore.ferrone@obspm.fr\",\n",
    "    \"Description\": \"Inverse transform sampling of the isotropic Plummer model\",\n",
    "    \"potential_name\":potential_name,\n",
    "    \"Nparticles\": NP,\n",
    "    \"monte-carlo-key\": mcarlokey,\n",
    "} "
   ]
  },
  {
   "cell_type": "code",
   "execution_count": 37,
   "metadata": {},
   "outputs": [],
   "source": [
    "with h5py.File(outname,\"w\") as myfile:\n",
    "    myfile.create_dataset(\"x\",data=x)\n",
    "    myfile.create_dataset(\"y\",data=y)\n",
    "    myfile.create_dataset(\"z\",data=z)\n",
    "    myfile.create_dataset(\"vx\",data=vx)\n",
    "    myfile.create_dataset(\"vy\",data=vy)\n",
    "    myfile.create_dataset(\"vz\",data=vz)\n",
    "    myfile.create_dataset(\"Mass\",data=Mass)\n",
    "    myfile.create_dataset(\"rh_m\",data=rh_m)\n",
    "    myfile.attrs.update(attrs)\n",
    "    "
   ]
  },
  {
   "cell_type": "code",
   "execution_count": 45,
   "metadata": {},
   "outputs": [
    {
     "data": {
      "text/plain": [
       "array([0.02763, 0.02763, 0.02763, 0.02763, 0.02763, 0.02763, 0.02763,\n",
       "       0.02763, 0.02763, 0.02763, 0.02763, 0.02763, 0.02763, 0.02763,\n",
       "       0.02763, 0.02763, 0.02763, 0.02763, 0.02763, 0.02763, 0.02763,\n",
       "       0.02763, 0.02763, 0.02763, 0.02763, 0.02763, 0.02763, 0.02763,\n",
       "       0.02763, 0.02763, 0.02763, 0.02763, 0.02763, 0.02763, 0.02763,\n",
       "       0.02763, 0.02763, 0.02763, 0.02763, 0.02763, 0.02763, 0.02763,\n",
       "       0.02763, 0.02763, 0.02763, 0.02763, 0.02763, 0.02763, 0.02763,\n",
       "       0.02763])"
      ]
     },
     "execution_count": 45,
     "metadata": {},
     "output_type": "execute_result"
    }
   ],
   "source": [
    "init_conds[\"initial_conditions\"][:,6]\n",
    "init_conds[\"initial_conditions\"][:,7]"
   ]
  }
 ],
 "metadata": {
  "kernelspec": {
   "display_name": "tstrippy",
   "language": "python",
   "name": "python3"
  },
  "language_info": {
   "codemirror_mode": {
    "name": "ipython",
    "version": 3
   },
   "file_extension": ".py",
   "mimetype": "text/x-python",
   "name": "python",
   "nbconvert_exporter": "python",
   "pygments_lexer": "ipython3",
   "version": "3.11.8"
  }
 },
 "nbformat": 4,
 "nbformat_minor": 2
}
