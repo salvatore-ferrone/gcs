{
 "cells": [
  {
   "cell_type": "markdown",
   "metadata": {},
   "source": [
    "## Integrate the particles where they feel all NBody forces"
   ]
  },
  {
   "cell_type": "code",
   "execution_count": 1,
   "metadata": {},
   "outputs": [],
   "source": [
    "import h5py\n",
    "import tstrippy\n",
    "from gcs import path_handler as ph\n",
    "import gcs\n",
    "import os \n",
    "import numpy as np \n",
    "import astropy.units as u\n",
    "import vanilla\n",
    "import vanilla_loop_over_monte_carlo as vlm\n",
    "import datetime \n",
    "import GCNBody"
   ]
  },
  {
   "cell_type": "code",
   "execution_count": 2,
   "metadata": {},
   "outputs": [],
   "source": [
    "author = \"Salvatore Ferrone\"\n",
    "author_affiliation = \"Sapienza University of Rome\"\n",
    "author_email = \"salvatore.ferrone@uniroma1.it\"\n",
    "description = \"Integrating star-particles with in a globular cluster\""
   ]
  },
  {
   "cell_type": "code",
   "execution_count": 3,
   "metadata": {},
   "outputs": [],
   "source": [
    "GCname              =   \"NGC104\"\n",
    "montecarlokey       =   \"monte-carlo-000\"\n",
    "internal_dynamics   =   \"isotropic-plummer\"\n",
    "GCorbits_potential  =   \"pouliasis2017pii\"\n",
    "MWpotential         =   \"pouliasis2017pii\"\n",
    "NP                  =   int(1e2)\n",
    "T                   =   5e9*u.yr\n",
    "dt                  =   1e5*u.yr\n",
    "NSKIP               =   int(100)"
   ]
  },
  {
   "cell_type": "code",
   "execution_count": 4,
   "metadata": {},
   "outputs": [],
   "source": [
    "attrs = {\"GCname\":GCname,\"montecarlokey\":montecarlokey,\"internal_dynamics\":internal_dynamics,\"GCorbits_potential\":GCorbits_potential,\"MWpotential\":MWpotential,\"NP\":NP,\"T\":str(T),\"dt\":str(dt),\"NSKIP\":NSKIP}"
   ]
  },
  {
   "cell_type": "code",
   "execution_count": 5,
   "metadata": {},
   "outputs": [],
   "source": [
    "GCnames=list(tstrippy.Parsers.baumgardtMWGCs().data['Cluster'][:])\n",
    "GCnames.remove(GCname)"
   ]
  },
  {
   "cell_type": "code",
   "execution_count": 7,
   "metadata": {},
   "outputs": [],
   "source": [
    "GCnames=GCNBody.load_GCnames_except_for_the_target(GCname)"
   ]
  },
  {
   "cell_type": "code",
   "execution_count": 9,
   "metadata": {},
   "outputs": [],
   "source": [
    "GCNBodyargs=GCNBody.load_arguments(GCnames=GCnames,GCorbits_potential=GCorbits_potential,montecarlokey=montecarlokey)"
   ]
  },
  {
   "cell_type": "code",
   "execution_count": null,
   "metadata": {},
   "outputs": [],
   "source": []
  },
  {
   "cell_type": "code",
   "execution_count": null,
   "metadata": {},
   "outputs": [],
   "source": []
  }
 ],
 "metadata": {
  "kernelspec": {
   "display_name": "tstrippy",
   "language": "python",
   "name": "python3"
  },
  "language_info": {
   "codemirror_mode": {
    "name": "ipython",
    "version": 3
   },
   "file_extension": ".py",
   "mimetype": "text/x-python",
   "name": "python",
   "nbconvert_exporter": "python",
   "pygments_lexer": "ipython3",
   "version": "3.11.2"
  }
 },
 "nbformat": 4,
 "nbformat_minor": 2
}
