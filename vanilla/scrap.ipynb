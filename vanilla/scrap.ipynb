{
 "cells": [
  {
   "cell_type": "code",
   "execution_count": 21,
   "metadata": {},
   "outputs": [],
   "source": [
    "import tstrippy\n",
    "import h5py\n",
    "import astropy.units as u\n",
    "import astropy.coordinates as coord\n",
    "import numpy as np\n",
    "import sys\n",
    "sys.path.append('../')\n",
    "import path_handler as ph\n",
    "import yaml\n",
    "import h5py\n",
    "import matplotlib.pyplot as plt"
   ]
  },
  {
   "cell_type": "code",
   "execution_count": 23,
   "metadata": {},
   "outputs": [
    {
     "data": {
      "text/plain": [
       "4.300917270036279e-06"
      ]
     },
     "execution_count": 23,
     "metadata": {},
     "output_type": "execute_result"
    }
   ],
   "source": [
    "tstrippy.Parsers.potential_parameters.G"
   ]
  },
  {
   "cell_type": "code",
   "execution_count": 24,
   "metadata": {},
   "outputs": [],
   "source": [
    "M = 1e5\n",
    "halfmass = 5e-3\n",
    "G=tstrippy.Parsers.potential_parameters.G\n",
    "NP = int(1e5)\n",
    "x,y,z,vx,vy,vz=tstrippy.ergodic.isotropicplummer(G,M,halfmass,NP)"
   ]
  },
  {
   "cell_type": "code",
   "execution_count": 25,
   "metadata": {},
   "outputs": [
    {
     "data": {
      "image/png": "[encoded data removed]",
      "text/plain": [
       "<Figure size 640x480 with 1 Axes>"
      ]
     },
     "metadata": {},
     "output_type": "display_data"
    }
   ],
   "source": [
    "fig,axis=plt.subplots(1,1)\n",
    "axis.scatter(x,y,s=1,alpha=1)\n",
    "std_x=np.std(x)\n",
    "std_y=np.std(y)\n",
    "axis.set_aspect('equal')"
   ]
  },
  {
   "cell_type": "code",
   "execution_count": 12,
   "metadata": {},
   "outputs": [
    {
     "data": {
      "text/plain": [
       "(0.010452701758186283, 0.020883607611959103)"
      ]
     },
     "execution_count": 12,
     "metadata": {},
     "output_type": "execute_result"
    }
   ],
   "source": [
    "std_x,std_y"
   ]
  },
  {
   "cell_type": "code",
   "execution_count": 2,
   "metadata": {},
   "outputs": [],
   "source": [
    "def extract_GC_observables(filehdf5,montecarlokey,):\n",
    "    RA          =   filehdf5[montecarlokey]['RA'][0]        *u.Unit(filehdf5.attrs['RA'])\n",
    "    DEC         =   filehdf5[montecarlokey]['DEC'][0]       *u.Unit(filehdf5.attrs['DEC'])\n",
    "    rh_m        =   filehdf5[montecarlokey]['rh_m'][0]      *u.Unit(filehdf5.attrs['rh_m'])\n",
    "    Mass        =   filehdf5[montecarlokey]['Mass'][0]      *u.Unit(filehdf5.attrs['Mass'])\n",
    "    Rsun        =   filehdf5[montecarlokey]['Rsun'][0]      *u.Unit(filehdf5.attrs['Rsun'])\n",
    "    RV          =   filehdf5[montecarlokey]['RV'][0]        *u.Unit(filehdf5.attrs['RV'])\n",
    "    mualpha     =   filehdf5[montecarlokey]['mualpha'][0]   *u.Unit(filehdf5.attrs['mualpha'])\n",
    "    mu_delta    =   filehdf5[montecarlokey]['mu_delta'][0]  *u.Unit(filehdf5.attrs['mu_delta'])\n",
    "    return  Mass,rh_m,RA,DEC,Rsun,RV,mualpha,mu_delta\n",
    "\n",
    "def extract_all_GC_observables(GCnames,montecarlokey):\n",
    "    assert(isinstance(GCnames,list))\n",
    "    assert(isinstance(montecarlokey,str))\n",
    "    Masses,rh_mes,RAes,DECes,Rsunes,RVes,mualphaes,mu_deltaes=[],[],[],[],[],[],[],[]\n",
    "    for i in range(len(GCnames)):\n",
    "        filename=ph.MonteCarloObservables(GCnames[i])\n",
    "        with h5py.File(filename,'r') as filehdf5:\n",
    "            Mass,rh_m,RA,DEC,Rsun,RV,mualpha,mu_delta=extract_GC_observables(filehdf5,montecarlokey)\n",
    "            Masses.append(Mass)\n",
    "            rh_mes.append(rh_m)\n",
    "            RAes.append(RA)\n",
    "            DECes.append(DEC)\n",
    "            Rsunes.append(Rsun)\n",
    "            RVes.append(RV)\n",
    "            mualphaes.append(mualpha)\n",
    "            mu_deltaes.append(mu_delta)\n",
    "    return Masses,rh_mes,RAes,DECes,Rsunes,RVes,mualphaes,mu_deltaes"
   ]
  },
  {
   "cell_type": "code",
   "execution_count": 10,
   "metadata": {},
   "outputs": [],
   "source": [
    "# get the integration parameters\n",
    "def get_backward_forward_integration_parameters(config):\n",
    "    unitbasis   =   tstrippy.Parsers.potential_parameters.unitbasis\n",
    "    timestep    =   u.quantity.Quantity(config['timestep'])\n",
    "    forwardtime =   u.quantity.Quantity(config['forwardtime'])\n",
    "    backwardtime=   u.quantity.Quantity(config['backwardtime'])\n",
    "    NSTEP_b     =   int(backwardtime.value/timestep.value)\n",
    "    NSTEP_f     =   int(forwardtime.value/timestep.value)\n",
    "    timestep    =   timestep.to(unitbasis['time'])\n",
    "    forwardtime =   forwardtime.to(unitbasis['time'])\n",
    "    backwardtime=   backwardtime.to(unitbasis['time'])\n",
    "    \n",
    "    tf          =   np.linspace(0,forwardtime.value,NSTEP_f+1)\n",
    "    tb          =  -np.linspace(0,backwardtime.value,NSTEP_b+1)\n",
    "    tb          =   tb[::-1]\n",
    "    t           =   np.concatenate((tb[:-1],tf))\n",
    "    return t, (backwardtime, NSTEP_b, timestep), (forwardtime, NSTEP_f, timestep)"
   ]
  },
  {
   "cell_type": "code",
   "execution_count": 3,
   "metadata": {},
   "outputs": [],
   "source": [
    "# import the configuration file\n",
    "with open(\"config.yaml\", 'r') as stream:\n",
    "    config = yaml.safe_load(stream)"
   ]
  },
  {
   "cell_type": "code",
   "execution_count": 8,
   "metadata": {},
   "outputs": [],
   "source": [
    "# import the galactic reference frame\n",
    "refframe=tstrippy.Parsers.potential_parameters.MWreferenceframe()\n",
    "# import the on potential parameters\n",
    "if config[\"MWpotential\"]==\"pouliasis2017pii\":\n",
    "    MWparams=tstrippy.Parsers.potential_parameters.pouliasis2017pii()\n",
    "else:\n",
    "    print(\"potential not found\")"
   ]
  },
  {
   "cell_type": "code",
   "execution_count": 9,
   "metadata": {},
   "outputs": [],
   "source": [
    "Mass,rh_m,RA,DEC,Rsun,RV,mualpha,mu_delta=extract_all_GC_observables(config['GCname'],config['montecarlokey'])\n",
    "gc_sky=coord.SkyCoord(ra=RA,dec=DEC,pm_ra_cosdec=mualpha,pm_dec=mu_delta,radial_velocity=RV, distance=Rsun, frame='icrs')\n",
    "gc_galcentric=gc_sky.transform_to(refframe)"
   ]
  },
  {
   "cell_type": "code",
   "execution_count": 11,
   "metadata": {},
   "outputs": [],
   "source": [
    "# set up the time parameters\n",
    "t, back, forward=get_backward_forward_integration_parameters(config)"
   ]
  },
  {
   "cell_type": "code",
   "execution_count": 12,
   "metadata": {},
   "outputs": [],
   "source": [
    "## DO THE FORWARD INTEGRATION\n",
    "tstrippy.lib.integrator.setstaticgalaxy(config['MWpotential'],MWparams) \n",
    "tstrippy.lib.integrator.setintegrationparameters(0,forward[2].value,forward[1])\n",
    "tstrippy.lib.integrator.setinitialkinematics(\n",
    "    gc_galcentric.x.to(u.kpc).value,\n",
    "    gc_galcentric.y.to(u.kpc).value,\n",
    "    gc_galcentric.z.to(u.kpc).value,\n",
    "    gc_galcentric.v_x.to(u.km/u.s).value,\n",
    "    gc_galcentric.v_y.to(u.km/u.s).value,\n",
    "    gc_galcentric.v_z.to(u.km/u.s).value)\n",
    "xt_f,yt_f,zt_f,vxt_f,vyt_f,vzt_f=tstrippy.lib.integrator.leapfrogintime(forward[1],len(config['GCname']))\n",
    "tstrippy.lib.integrator.deallocate()"
   ]
  },
  {
   "cell_type": "code",
   "execution_count": 13,
   "metadata": {},
   "outputs": [],
   "source": [
    "## DO THE BACKWARD INTEGRATION\n",
    "tstrippy.lib.integrator.setstaticgalaxy(config['MWpotential'],MWparams) \n",
    "tstrippy.lib.integrator.setintegrationparameters(0,back[2].value,back[1])\n",
    "tstrippy.lib.integrator.setinitialkinematics(\n",
    "    gc_galcentric.x.to(u.kpc).value,\n",
    "    gc_galcentric.y.to(u.kpc).value,\n",
    "    gc_galcentric.z.to(u.kpc).value,\n",
    "    -gc_galcentric.v_x.to(u.km/u.s).value,\n",
    "    -gc_galcentric.v_y.to(u.km/u.s).value,\n",
    "    -gc_galcentric.v_z.to(u.km/u.s).value)\n",
    "xt_b,yt_b,zt_b,vxt_b,vyt_b,vzt_b=tstrippy.lib.integrator.leapfrogintime(back[1],len(config['GCname']))\n",
    "# flip the order and the sign of the velocities\n",
    "tstrippy.lib.integrator.deallocate()"
   ]
  },
  {
   "cell_type": "code",
   "execution_count": 28,
   "metadata": {},
   "outputs": [],
   "source": [
    "xt_b, yt_b, zt_b = xt_b[:,::-1], yt_b[:,::-1], zt_b[:,::-1]\n",
    "vxt_b,vyt_b,vzt_b=-vxt_b[:,::-1],-vyt_b[:,::-1],-vzt_b[:,::-1]\n",
    "x = np.concatenate((xt_b,xt_f[:,1:]),axis=1)\n",
    "y = np.concatenate((yt_b,yt_f[:,1:]),axis=1)\n",
    "z = np.concatenate((zt_b,zt_f[:,1:]),axis=1)\n",
    "vx= np.concatenate((vxt_b,vxt_f[:,1:]),axis=1)\n",
    "vy= np.concatenate((vyt_b,vyt_f[:,1:]),axis=1)\n",
    "vz= np.concatenate((vzt_b,vzt_f[:,1:]),axis=1)"
   ]
  },
  {
   "cell_type": "code",
   "execution_count": 30,
   "metadata": {},
   "outputs": [],
   "source": [
    "outarray=np.zeros((6,len(config['GCname']),len(t)))\n",
    "outarray[0]=x\n",
    "outarray[1]=y\n",
    "outarray[2]=z\n",
    "outarray[3]=vx\n",
    "outarray[4]=vy\n",
    "outarray[5]=vz\n"
   ]
  },
  {
   "cell_type": "code",
   "execution_count": 35,
   "metadata": {},
   "outputs": [],
   "source": [
    "\n",
    "\n",
    "\n",
    "outfilename= ph.temporary_gc_orbits(config['MWpotential'],config[\"montecarlokey\"],\"phase-space\")\n",
    "np.save(outfilename,outarray)\n",
    "outfilename= ph.temporary_gc_orbits(config['MWpotential'],config[\"montecarlokey\"],\"t\")\n",
    "np.save(outfilename,t)\n",
    "\n"
   ]
  },
  {
   "cell_type": "code",
   "execution_count": 12,
   "metadata": {},
   "outputs": [
    {
     "data": {
      "text/plain": [
       "4"
      ]
     },
     "execution_count": 12,
     "metadata": {},
     "output_type": "execute_result"
    }
   ],
   "source": []
  }
 ],
 "metadata": {
  "kernelspec": {
   "display_name": "tstrippy",
   "language": "python",
   "name": "python3"
  },
  "language_info": {
   "codemirror_mode": {
    "name": "ipython",
    "version": 3
   },
   "file_extension": ".py",
   "mimetype": "text/x-python",
   "name": "python",
   "nbconvert_exporter": "python",
   "pygments_lexer": "ipython3",
   "version": "3.11.8"
  }
 },
 "nbformat": 4,
 "nbformat_minor": 2
}
